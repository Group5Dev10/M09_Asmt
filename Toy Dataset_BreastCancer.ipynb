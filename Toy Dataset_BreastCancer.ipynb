{
 "cells": [
  {
   "cell_type": "code",
   "execution_count": 233,
   "id": "0c98918e",
   "metadata": {},
   "outputs": [],
   "source": [
    "import pandas as pd\n",
    "import requests\n",
    "import json\n",
    "\n",
    "import seaborn as sns\n",
    "import matplotlib.pyplot as plt\n",
    "from matplotlib.ticker import FuncFormatter\n",
    "import numpy as np\n",
    "\n",
    "from sklearn.neighbors import KNeighborsClassifier\n",
    "from sklearn.model_selection import train_test_split\n",
    "from sklearn.model_selection import GridSearchCV\n",
    "from sklearn.metrics import classification_report\n",
    "from sklearn.metrics import accuracy_score\n",
    "\n",
    "\n",
    "pd.set_option('display.max_rows', None)\n",
    "pd.set_option('display.max_columns', None)\n",
    "\n",
    "\n",
    "### Removes warnings\n",
    "import warnings\n",
    "warnings.filterwarnings('ignore') "
   ]
  },
  {
   "cell_type": "code",
   "execution_count": 234,
   "id": "f3ef2447",
   "metadata": {},
   "outputs": [],
   "source": [
    "cancer = pd.read_csv(r'data\\BreastCancer.csv')"
   ]
  },
  {
   "cell_type": "code",
   "execution_count": 235,
   "id": "5a2866ed",
   "metadata": {},
   "outputs": [],
   "source": [
    "## Change target variable to int\n",
    "cancer.diagnosis = cancer.diagnosis.replace('M', 1)\n",
    "cancer.diagnosis = cancer.diagnosis.replace('B', 0)"
   ]
  },
  {
   "cell_type": "markdown",
   "id": "9593116d",
   "metadata": {},
   "source": [
    "### Training on all variables (no feature selection)"
   ]
  },
  {
   "cell_type": "code",
   "execution_count": 236,
   "id": "0557202f",
   "metadata": {},
   "outputs": [],
   "source": [
    "y = cancer.pop('diagnosis')\n",
    "X = cancer\n",
    "X = X.drop('Unnamed: 32', axis = 1)\n",
    "\n",
    "X_train, X_test, y_train, y_test = train_test_split(X, y, test_size = 0.25, random_state = 12)\n"
   ]
  },
  {
   "cell_type": "code",
   "execution_count": 237,
   "id": "89df1da7",
   "metadata": {},
   "outputs": [
    {
     "data": {
      "text/plain": [
       "0.7482517482517482"
      ]
     },
     "execution_count": 237,
     "metadata": {},
     "output_type": "execute_result"
    }
   ],
   "source": [
    "knn = KNeighborsClassifier()\n",
    "knn.fit(X_train, y_train) \n",
    "knn.score(X_test, y_test)"
   ]
  },
  {
   "cell_type": "markdown",
   "id": "1066f0a5",
   "metadata": {},
   "source": [
    "### Choosing Important Variables"
   ]
  },
  {
   "cell_type": "code",
   "execution_count": 238,
   "id": "94a81f4e",
   "metadata": {},
   "outputs": [],
   "source": [
    "## Feature Selection\n",
    "\n",
    "cancer = pd.read_csv(r'data\\BreastCancer.csv')\n",
    "cancer.diagnosis = cancer.diagnosis.replace('M', 1)\n",
    "cancer.diagnosis = cancer.diagnosis.replace('B', 0)\n",
    "\n",
    "y = cancer['diagnosis']\n",
    "X = cancer[['radius_mean', 'texture_mean', 'perimeter_mean', 'area_mean', 'smoothness_mean', 'compactness_mean', 'concavity_mean', 'concave points_mean', 'symmetry_mean', 'fractal_dimension_mean']]\n",
    "\n",
    "\n",
    "X_train, X_test, y_train, y_test = train_test_split(X, y, test_size = 0.25, random_state = 12)\n"
   ]
  },
  {
   "cell_type": "code",
   "execution_count": 239,
   "id": "2a61c555",
   "metadata": {},
   "outputs": [
    {
     "data": {
      "text/plain": [
       "0.8531468531468531"
      ]
     },
     "execution_count": 239,
     "metadata": {},
     "output_type": "execute_result"
    }
   ],
   "source": [
    "knn = KNeighborsClassifier()\n",
    "knn.fit(X_train, y_train) \n",
    "knn.score(X_test, y_test)"
   ]
  },
  {
   "cell_type": "markdown",
   "id": "cd00cfab",
   "metadata": {},
   "source": [
    "### Scaling"
   ]
  },
  {
   "cell_type": "code",
   "execution_count": 240,
   "id": "48d7812b",
   "metadata": {},
   "outputs": [],
   "source": [
    "from sklearn import preprocessing\n",
    "import numpy as np\n",
    "\n",
    "\n",
    "##scaling\n",
    "scaler = preprocessing.StandardScaler().fit(X_train)\n",
    "X_train_scaled = scaler.transform(X_train)\n",
    "\n",
    "\n",
    "scaler = preprocessing.StandardScaler().fit(X_test)\n",
    "X_test_scaled = scaler.transform(X_test)\n"
   ]
  },
  {
   "cell_type": "code",
   "execution_count": 241,
   "id": "8a2cc662",
   "metadata": {},
   "outputs": [
    {
     "data": {
      "text/plain": [
       "0.9230769230769231"
      ]
     },
     "execution_count": 241,
     "metadata": {},
     "output_type": "execute_result"
    }
   ],
   "source": [
    "## Training and testing on scaled data\n",
    "\n",
    "knn = KNeighborsClassifier()\n",
    "\n",
    "knn.fit(X_train_scaled, y_train) \n",
    "knn.score(X_test_scaled, y_test)"
   ]
  },
  {
   "cell_type": "markdown",
   "id": "7e89face",
   "metadata": {},
   "source": [
    "### ---------------------------- Fine Tuning Parameters ----------------------------"
   ]
  },
  {
   "cell_type": "code",
   "execution_count": 242,
   "id": "2fc5a46f",
   "metadata": {},
   "outputs": [
    {
     "data": {
      "text/plain": [
       "{'n_neighbors': 17, 'p': 1, 'weights': 'distance'}"
      ]
     },
     "execution_count": 242,
     "metadata": {},
     "output_type": "execute_result"
    }
   ],
   "source": [
    "grid_params = {'n_neighbors' : [3,5,7,9,11,13,15,17],\n",
    "               'weights' : ['uniform','distance'],\n",
    "               'p' : [1, 2]}\n",
    "\n",
    "\n",
    "knn = KNeighborsClassifier()\n",
    "#instantiate grid search\n",
    "gs = GridSearchCV(knn, grid_params, cv=3,)\n",
    "\n",
    "# fit to training data\n",
    "g_res = gs.fit(X_train, y_train)\n",
    "\n",
    "\n",
    "g_res.best_params_"
   ]
  },
  {
   "cell_type": "code",
   "execution_count": 243,
   "id": "68e36ef3",
   "metadata": {},
   "outputs": [
    {
     "data": {
      "text/plain": [
       "0.9300699300699301"
      ]
     },
     "execution_count": 243,
     "metadata": {},
     "output_type": "execute_result"
    }
   ],
   "source": [
    "knn_params = KNeighborsClassifier(n_neighbors = 17, p = 1, weights = 'distance')\n",
    "\n",
    "knn_params.fit(X_train_scaled, y_train)\n",
    "knn_params.score(X_test_scaled, y_test)\n",
    "\n",
    "#same score wtih optimal parameters"
   ]
  },
  {
   "cell_type": "code",
   "execution_count": 244,
   "id": "26c8b28e",
   "metadata": {},
   "outputs": [
    {
     "data": {
      "text/plain": [
       "array([0.9020979 , 0.91608392, 0.91608392, 0.93706294, 0.92307692,\n",
       "       0.94405594, 0.93706294, 0.93706294, 0.93706294, 0.94405594,\n",
       "       0.94405594, 0.95104895, 0.95104895, 0.94405594, 0.94405594,\n",
       "       0.94405594, 0.94405594, 0.93706294, 0.93706294, 0.93006993])"
      ]
     },
     "execution_count": 244,
     "metadata": {},
     "output_type": "execute_result"
    }
   ],
   "source": [
    "from sklearn import metrics\n",
    "\n",
    "# calculating the accuracy of models with different values of k\n",
    "mean_acc = np.zeros(20)\n",
    "for i in range(1,21):\n",
    "    #Train Model and Predict  \n",
    "    knn = KNeighborsClassifier(n_neighbors = i).fit(X_train_scaled, y_train)\n",
    "    yhat= knn.predict(X_test_scaled)\n",
    "    mean_acc[i-1] = metrics.accuracy_score(y_test, yhat)\n",
    "\n",
    "mean_acc"
   ]
  },
  {
   "cell_type": "code",
   "execution_count": 245,
   "id": "ea4fcdc7",
   "metadata": {},
   "outputs": [
    {
     "data": {
      "image/png": "[encoded data removed]",
      "text/plain": [
       "<Figure size 1000x600 with 1 Axes>"
      ]
     },
     "metadata": {},
     "output_type": "display_data"
    }
   ],
   "source": [
    "loc = np.arange(1,21,step=1.0)\n",
    "plt.figure(figsize = (10, 6))\n",
    "plt.plot(range(1,21), mean_acc)\n",
    "plt.xticks(loc)\n",
    "plt.xlabel('Number of Neighbors ')\n",
    "plt.ylabel('Accuracy')\n",
    "plt.show()"
   ]
  },
  {
   "cell_type": "code",
   "execution_count": 246,
   "id": "f24a5306",
   "metadata": {},
   "outputs": [
    {
     "data": {
      "text/plain": [
       "0.951048951048951"
      ]
     },
     "execution_count": 246,
     "metadata": {},
     "output_type": "execute_result"
    }
   ],
   "source": [
    "knn_neighbors = KNeighborsClassifier(n_neighbors = 13)\n",
    "\n",
    "knn_neighbors.fit(X_train_scaled, y_train)\n",
    "knn_neighbors.score(X_test_scaled, y_test)"
   ]
  },
  {
   "cell_type": "code",
   "execution_count": null,
   "id": "caf572d3",
   "metadata": {},
   "outputs": [],
   "source": []
  },
  {
   "cell_type": "code",
   "execution_count": null,
   "id": "f019d436",
   "metadata": {},
   "outputs": [],
   "source": []
  },
  {
   "cell_type": "code",
   "execution_count": null,
   "id": "6229bbb4",
   "metadata": {},
   "outputs": [],
   "source": []
  },
  {
   "cell_type": "code",
   "execution_count": null,
   "id": "41c063f5",
   "metadata": {},
   "outputs": [],
   "source": []
  }
 ],
 "metadata": {
  "kernelspec": {
   "display_name": "Python 3 (ipykernel)",
   "language": "python",
   "name": "python3"
  },
  "language_info": {
   "codemirror_mode": {
    "name": "ipython",
    "version": 3
   },
   "file_extension": ".py",
   "mimetype": "text/x-python",
   "name": "python",
   "nbconvert_exporter": "python",
   "pygments_lexer": "ipython3",
   "version": "3.9.13"
  }
 },
 "nbformat": 4,
 "nbformat_minor": 5
}
